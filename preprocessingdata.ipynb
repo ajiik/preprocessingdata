{
  "nbformat": 4,
  "nbformat_minor": 0,
  "metadata": {
    "colab": {
      "provenance": [],
      "authorship_tag": "ABX9TyMAKIA4n50lM+oN+IcBE5qx",
      "include_colab_link": true
    },
    "kernelspec": {
      "name": "python3",
      "display_name": "Python 3"
    },
    "language_info": {
      "name": "python"
    }
  },
  "cells": [
    {
      "cell_type": "markdown",
      "metadata": {
        "id": "view-in-github",
        "colab_type": "text"
      },
      "source": [
        "<a href=\"https://colab.research.google.com/github/ajiik/preprocessingdata/blob/main/preprocessingdata.ipynb\" target=\"_parent\"><img src=\"https://colab.research.google.com/assets/colab-badge.svg\" alt=\"Open In Colab\"/></a>"
      ]
    },
    {
      "cell_type": "markdown",
      "source": [
        "Langkah Awal sebslum kita menjalankan preprocessingdata, kita harus menginport library seperti di bawah ini:"
      ],
      "metadata": {
        "id": "EMcf1TPBD_7e"
      }
    },
    {
      "cell_type": "code",
      "execution_count": 1,
      "metadata": {
        "id": "KC7sqPbuDI87"
      },
      "outputs": [],
      "source": [
        "import numpy as np\n",
        "import matplotlib.pyplot as plt\n",
        "import pandas as pd"
      ]
    },
    {
      "cell_type": "markdown",
      "source": [
        "Setelah mengimpor library, langkah berikutnya adalah membaca data dari file CSV yang berisi nilai X dan Y."
      ],
      "metadata": {
        "id": "nTUeeYOREFcy"
      }
    },
    {
      "cell_type": "code",
      "source": [
        "dataset = pd.read_csv('data_laptop.csv')\n",
        "x = dataset.iloc[:, :-1].values\n",
        "y = dataset.iloc[:, -1].values"
      ],
      "metadata": {
        "id": "tfphr0xfEF5H"
      },
      "execution_count": 3,
      "outputs": []
    },
    {
      "cell_type": "markdown",
      "source": [
        "menjalankan printah untuk membaca nilai X"
      ],
      "metadata": {
        "id": "etigWqGKERir"
      }
    },
    {
      "cell_type": "code",
      "source": [
        "print(x)"
      ],
      "metadata": {
        "colab": {
          "base_uri": "https://localhost:8080/"
        },
        "id": "M3miAbKMESXT",
        "outputId": "cc44a71f-e3b5-4090-c8ca-651192686e3d"
      },
      "execution_count": 4,
      "outputs": [
        {
          "output_type": "stream",
          "name": "stdout",
          "text": [
            "[['Jerman' 'Dell' 44.0 72000.0]\n",
            " ['Prancis' 'Apple' 27.0 48000.0]\n",
            " ['Spanyol' 'Samsung' 30.0 54000.0]\n",
            " ['Jerman' 'Lenovo' 35.0 58000.0]\n",
            " ['Prancis' 'Asus' 38.0 61000.0]\n",
            " ['Spanyol' 'Huawei' 40.0 63777.77]\n",
            " ['Jerman' 'HP' 37.0 67000.0]\n",
            " ['Prancis' 'Acer' 48.0 79000.0]]\n"
          ]
        }
      ]
    },
    {
      "cell_type": "markdown",
      "source": [
        "menjalankan printah untuk membaca nilai y"
      ],
      "metadata": {
        "id": "lh4t3pcYEXcR"
      }
    },
    {
      "cell_type": "code",
      "source": [
        "print(y)"
      ],
      "metadata": {
        "colab": {
          "base_uri": "https://localhost:8080/"
        },
        "id": "UjcdkfYAEX8p",
        "outputId": "4532cc4a-a12c-40fb-dac5-924f088b2cb0"
      },
      "execution_count": 5,
      "outputs": [
        {
          "output_type": "stream",
          "name": "stdout",
          "text": [
            "['Ya' 'Tidak' 'Tidak' 'Ya' 'Ya' 'Tidak' 'Ya' 'Tidak']\n"
          ]
        }
      ]
    },
    {
      "cell_type": "markdown",
      "source": [
        "SimpleImputer dengan strategi 'most_frequent' digunakan untuk mengisi nilai yang hilang pada kolom kategorik dengan kategori yang paling sering muncul, membantu menjaga struktur dan distribusi data asli dalam proses preprocessing."
      ],
      "metadata": {
        "id": "8ZqQvvEfKnZd"
      }
    },
    {
      "cell_type": "code",
      "source": [
        "imputer_cat = SimpleImputer(missing_values=np.nan, strategy='most_frequent')\n",
        "imputer_cat.fit(x[:, 0:1])\n",
        "x[:, 0:1] = imputer_cat.transform(x[:, 0:1])"
      ],
      "metadata": {
        "id": "VeMx_YEEHmQT"
      },
      "execution_count": 18,
      "outputs": []
    },
    {
      "cell_type": "markdown",
      "source": [
        "Ketika kita menjalankan kode print(X), program akan menampilkan data X setelah proses pengisian nilai yang hilang dengan rata-rata (mean). Ini berguna untuk memastikan bahwa semua nilai yang hilang telah terisi dengan benar dan dataset siap digunakan untuk analisis lebih lanjut."
      ],
      "metadata": {
        "id": "FZD1_U1eK8Q6"
      }
    },
    {
      "cell_type": "code",
      "source": [
        "print(x)"
      ],
      "metadata": {
        "colab": {
          "base_uri": "https://localhost:8080/"
        },
        "id": "yu2HK0e5GhmN",
        "outputId": "8ca4ae3e-b09c-49d4-e199-6bbde32faaa0"
      },
      "execution_count": 19,
      "outputs": [
        {
          "output_type": "stream",
          "name": "stdout",
          "text": [
            "[['Jerman' 'Dell' 44.0 72000.0]\n",
            " ['Prancis' 'Apple' 27.0 48000.0]\n",
            " ['Spanyol' 'Samsung' 30.0 54000.0]\n",
            " ['Jerman' 'Lenovo' 35.0 58000.0]\n",
            " ['Prancis' 'Asus' 38.0 61000.0]\n",
            " ['Spanyol' 'Huawei' 40.0 63777.77]\n",
            " ['Jerman' 'HP' 37.0 67000.0]\n",
            " ['Prancis' 'Acer' 48.0 79000.0]]\n"
          ]
        }
      ]
    },
    {
      "cell_type": "markdown",
      "source": [
        "One-Hot Encoding adalah teknik mengubah variabel kategorik menjadi kolom biner (0 atau 1) untuk memungkinkan algoritma machine learning memproses data kategorik, di mana pada kode ini, ColumnTransformer digunakan untuk mengonversi kolom pertama (indeks 0) menjadi representasi one-hot, sementara kolom lainnya tetap dipertahankan aslinya menggunakan opsi 'passthrough'."
      ],
      "metadata": {
        "id": "mu2AaDqgLD_O"
      }
    },
    {
      "cell_type": "code",
      "source": [
        "from sklearn.compose import ColumnTransformer\n",
        "from sklearn.preprocessing import OneHotEncoder\n",
        "ct = ColumnTransformer(transformers=[('encoder', OneHotEncoder(), [0])], remainder='passthrough')\n",
        "x = np.array(ct.fit_transform(x))"
      ],
      "metadata": {
        "id": "Llv5YhPuHJz5"
      },
      "execution_count": null,
      "outputs": []
    },
    {
      "cell_type": "markdown",
      "source": [
        "Saat kita menjalankan print(X), program akan menampilkan data X setelah dikonversi menggunakan One-Hot Encoding. Ini memungkinkan kita untuk melihat bagaimana data kategorikal telah diubah menjadi bentuk numerik dengan representasi vektor biner."
      ],
      "metadata": {
        "id": "TSOVlrHHLUbg"
      }
    },
    {
      "cell_type": "code",
      "source": [
        "print(x)"
      ],
      "metadata": {
        "colab": {
          "base_uri": "https://localhost:8080/"
        },
        "id": "bbQm8I0yI5J6",
        "outputId": "30478034-6e34-411b-b901-56cb031e0009"
      },
      "execution_count": 20,
      "outputs": [
        {
          "output_type": "stream",
          "name": "stdout",
          "text": [
            "[['Jerman' 'Dell' 44.0 72000.0]\n",
            " ['Prancis' 'Apple' 27.0 48000.0]\n",
            " ['Spanyol' 'Samsung' 30.0 54000.0]\n",
            " ['Jerman' 'Lenovo' 35.0 58000.0]\n",
            " ['Prancis' 'Asus' 38.0 61000.0]\n",
            " ['Spanyol' 'Huawei' 40.0 63777.77]\n",
            " ['Jerman' 'HP' 37.0 67000.0]\n",
            " ['Prancis' 'Acer' 48.0 79000.0]]\n"
          ]
        }
      ]
    },
    {
      "cell_type": "markdown",
      "source": [
        "Label Encoding adalah teknik mengonversi label kategorik menjadi representasi numerik, di mana setiap kategori unik diubah menjadi integer berurutan, dalam konteks ini digunakan untuk mengubah variabel target (y) dari bentuk kategorik (misalnya 'Ya'/'Tidak') menjadi angka yang dapat diproses oleh algoritma machine learning."
      ],
      "metadata": {
        "id": "iejRyO-kLVs8"
      }
    },
    {
      "cell_type": "code",
      "source": [
        "from sklearn.preprocessing import LabelEncoder\n",
        "le = LabelEncoder()\n",
        "y = le.fit_transform(y)"
      ],
      "metadata": {
        "id": "DRRNM1CiJAho"
      },
      "execution_count": 21,
      "outputs": []
    },
    {
      "cell_type": "markdown",
      "source": [
        "Saat kita menjalankan print(y), program akan menampilkan data y setelah dikonversi menggunakan Label Encoding. Ini memungkinkan kita melihat bagaimana setiap kategori telah digantikan dengan nilai numerik."
      ],
      "metadata": {
        "id": "2QEzzFBNLbZl"
      }
    },
    {
      "cell_type": "code",
      "source": [
        "print(y)"
      ],
      "metadata": {
        "colab": {
          "base_uri": "https://localhost:8080/"
        },
        "id": "vWjNv_fgJE4O",
        "outputId": "0018adf9-a98f-482d-9c49-5f796aebb99f"
      },
      "execution_count": 22,
      "outputs": [
        {
          "output_type": "stream",
          "name": "stdout",
          "text": [
            "[1 0 0 1 1 0 1 0]\n"
          ]
        }
      ]
    },
    {
      "cell_type": "markdown",
      "source": [
        "Train-Test Split adalah teknik membagi dataset menjadi dua bagian: data latih (training) dan data uji (testing), di mana pada kode ini 80% data digunakan untuk melatih model (x_train, y_train) dan 20% data digunakan untuk menguji performa model (x_test, y_test), dengan parameter random_state=1 memastikan pembagian data yang konsisten dan dapat direproduksi setiap kali kode dijalankan."
      ],
      "metadata": {
        "id": "8xOp5UyzLgDG"
      }
    },
    {
      "cell_type": "code",
      "source": [
        "from sklearn.model_selection import train_test_split\n",
        "x_train, x_test, y_train, y_test = train_test_split(x, y, test_size = 0.2, random_state = 1)"
      ],
      "metadata": {
        "id": "WtRIFiBUJOIF"
      },
      "execution_count": 23,
      "outputs": []
    },
    {
      "cell_type": "markdown",
      "source": [
        "Saat kita menjalankan print(X_train), program akan menampilkan data latih (training) setelah proses pembagian dataset. Data ini digunakan oleh model machine learning untuk belajar pola dari dataset."
      ],
      "metadata": {
        "id": "HnpTbuxoL4bt"
      }
    },
    {
      "cell_type": "code",
      "source": [
        "print(x_train)"
      ],
      "metadata": {
        "colab": {
          "base_uri": "https://localhost:8080/"
        },
        "id": "AfKAFKUMJQaH",
        "outputId": "0fd001f5-ddf2-4e3a-e0c8-95bc0974b3f6"
      },
      "execution_count": 24,
      "outputs": [
        {
          "output_type": "stream",
          "name": "stdout",
          "text": [
            "[['Prancis' 'Apple' 27.0 48000.0]\n",
            " ['Jerman' 'HP' 37.0 67000.0]\n",
            " ['Jerman' 'Dell' 44.0 72000.0]\n",
            " ['Prancis' 'Asus' 38.0 61000.0]\n",
            " ['Jerman' 'Lenovo' 35.0 58000.0]\n",
            " ['Spanyol' 'Huawei' 40.0 63777.77]]\n"
          ]
        }
      ]
    },
    {
      "cell_type": "markdown",
      "source": [
        "Saat kita menjalankan print(X_test), program akan menampilkan data uji (testing) setelah proses pembagian dataset. Data ini digunakan untuk menguji kinerja model setelah dilatih."
      ],
      "metadata": {
        "id": "DgABBe0-L94D"
      }
    },
    {
      "cell_type": "code",
      "source": [
        "print(x_test)"
      ],
      "metadata": {
        "colab": {
          "base_uri": "https://localhost:8080/"
        },
        "id": "J2h_BLFwJWXp",
        "outputId": "b82b8f3e-46f1-404f-a79c-b00e089bde9d"
      },
      "execution_count": 25,
      "outputs": [
        {
          "output_type": "stream",
          "name": "stdout",
          "text": [
            "[['Prancis' 'Acer' 48.0 79000.0]\n",
            " ['Spanyol' 'Samsung' 30.0 54000.0]]\n"
          ]
        }
      ]
    },
    {
      "cell_type": "markdown",
      "source": [
        "Saat kita menjalankan print(y_train), program akan menampilkan data latih (training) untuk variabel target (y). Data ini digunakan oleh model machine learning untuk belajar dan menemukan pola dari dataset."
      ],
      "metadata": {
        "id": "lDeihoJIMB12"
      }
    },
    {
      "cell_type": "code",
      "source": [
        "print(y_train)"
      ],
      "metadata": {
        "colab": {
          "base_uri": "https://localhost:8080/"
        },
        "id": "4YfMqIumJbdA",
        "outputId": "48ec0c94-a63d-4603-889b-d4b74aef28af"
      },
      "execution_count": 26,
      "outputs": [
        {
          "output_type": "stream",
          "name": "stdout",
          "text": [
            "[0 1 1 1 1 0]\n"
          ]
        }
      ]
    },
    {
      "cell_type": "markdown",
      "source": [
        "Standarisasi dengan StandardScaler adalah teknik normalisasi data numerik yang mengubah fitur menjadi memiliki rata-rata 0 dan standar deviasi 1, dalam kode ini dilakukan pada kolom ke-4 dan seterusnya (x_train[:, 3:]) dengan menggunakan fit_transform() untuk data latih dan transform() untuk data uji, memastikan skala yang konsisten antara data latih dan data uji sehingga algoritma machine learning dapat memproses data dengan lebih optimal."
      ],
      "metadata": {
        "id": "Z_Reelj-MGi0"
      }
    },
    {
      "cell_type": "code",
      "source": [
        "from sklearn.preprocessing import StandardScaler\n",
        "sc = StandardScaler()\n",
        "x_train[:, 3:] = sc.fit_transform(x_train[:, 3:])\n",
        "x_test[:, 3:] = sc.transform(x_test[:, 3:])"
      ],
      "metadata": {
        "id": "vZk2zADjJhCW"
      },
      "execution_count": 27,
      "outputs": []
    },
    {
      "cell_type": "markdown",
      "source": [
        "Saat kita menjalankan print(X_train), program akan menampilkan data latih (training) setelah proses standarisasi. Data ini telah diubah sehingga memiliki rata-rata 0 dan standar deviasi 1, membantu model machine learning bekerja lebih optimal."
      ],
      "metadata": {
        "id": "UpW5SiFFMOcO"
      }
    },
    {
      "cell_type": "code",
      "source": [
        "print(x_train)"
      ],
      "metadata": {
        "colab": {
          "base_uri": "https://localhost:8080/"
        },
        "id": "cnILfqqpJjkW",
        "outputId": "21a7e62e-ee73-43a3-dca4-5204c8ea81ec"
      },
      "execution_count": 28,
      "outputs": [
        {
          "output_type": "stream",
          "name": "stdout",
          "text": [
            "[['Prancis' 'Apple' 27.0 -1.8096925159828943]\n",
            " ['Jerman' 'HP' 37.0 0.7130584323744642]\n",
            " ['Jerman' 'Dell' 44.0 1.3769402608895585]\n",
            " ['Prancis' 'Asus' 38.0 -0.08359976184364902]\n",
            " ['Jerman' 'Lenovo' 35.0 -0.4819288589527056]\n",
            " ['Spanyol' 'Huawei' 40.0 0.28522244351522524]]\n"
          ]
        }
      ]
    }
  ]
}